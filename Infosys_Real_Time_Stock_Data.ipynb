{
  "nbformat": 4,
  "nbformat_minor": 0,
  "metadata": {
    "colab": {
      "provenance": [],
      "authorship_tag": "ABX9TyMR5DCdfpM1ULsFvnstTzLM",
      "include_colab_link": true
    },
    "kernelspec": {
      "name": "python3",
      "display_name": "Python 3"
    },
    "language_info": {
      "name": "python"
    }
  },
  "cells": [
    {
      "cell_type": "markdown",
      "metadata": {
        "id": "view-in-github",
        "colab_type": "text"
      },
      "source": [
        "<a href=\"https://colab.research.google.com/github/akanksh-a8/akanksh-a8/blob/main/Infosys_Real_Time_Stock_Data.ipynb\" target=\"_parent\"><img src=\"https://colab.research.google.com/assets/colab-badge.svg\" alt=\"Open In Colab\"/></a>"
      ]
    },
    {
      "cell_type": "code",
      "execution_count": null,
      "metadata": {
        "id": "EgqqxuhOcZ4e"
      },
      "outputs": [],
      "source": [
        "url1= 'https://www.google.com/finance/quote/INFY:NSE'\n",
        "url2='https://www.google.com/finance/quote/500209:BOM'"
      ]
    },
    {
      "cell_type": "code",
      "source": [
        "import requests\n",
        "from bs4 import BeautifulSoup #for web Scrapping\n",
        "import time\n",
        "\n",
        "ticker ='INFY'\n",
        "exchange='NSE'\n",
        "\n",
        "url=f'https://www.google.com/finance/quote/{ticker}:{exchange}'\n",
        "\n",
        "for i in range(3):\n",
        "  response=requests.get(url)\n",
        "  soup = BeautifulSoup(response.content, 'html.parser')\n",
        "  class1=\"YMlKec fxKbKc\"\n",
        "  price=float(soup.find(class_=class1).text.strip()[1:].replace(\",\",\"\"))\n",
        "  print(price)\n",
        "  time.sleep(10)"
      ],
      "metadata": {
        "id": "7_4z76W0c8WA",
        "colab": {
          "base_uri": "https://localhost:8080/"
        },
        "outputId": "e231ef14-3410-49a9-fe28-fcc846277f72"
      },
      "execution_count": 14,
      "outputs": [
        {
          "output_type": "stream",
          "name": "stdout",
          "text": [
            "1706.35\n",
            "1706.35\n",
            "1706.35\n"
          ]
        }
      ]
    },
    {
      "cell_type": "code",
      "source": [],
      "metadata": {
        "colab": {
          "base_uri": "https://localhost:8080/"
        },
        "id": "ppmkSKR2db3p",
        "outputId": "ca40f034-77b6-4f00-fe6b-8ee62e25acaf"
      },
      "execution_count": 9,
      "outputs": [
        {
          "output_type": "execute_result",
          "data": {
            "text/plain": [
              "1706.35"
            ]
          },
          "metadata": {},
          "execution_count": 9
        }
      ]
    },
    {
      "cell_type": "code",
      "source": [
        ""
      ],
      "metadata": {
        "id": "Qyx7ohKsdeyt"
      },
      "execution_count": null,
      "outputs": []
    }
  ]
}